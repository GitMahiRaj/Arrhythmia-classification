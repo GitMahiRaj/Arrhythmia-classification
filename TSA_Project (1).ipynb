{
 "cells": [
  {
   "cell_type": "code",
   "execution_count": 2,
   "id": "2bdf8b3d",
   "metadata": {},
   "outputs": [],
   "source": [
    "import pandas as pd\n",
    "import numpy as np\n",
    "import matplotlib.pyplot as plt\n",
    "from os import listdir"
   ]
  },
  {
   "cell_type": "code",
   "execution_count": 3,
   "id": "8c755f91",
   "metadata": {},
   "outputs": [],
   "source": [
    "data_path = r'C:/Users/admin/OneDrive/Desktop/Arrihythmia/mit-bih-arrhythmia-database-1.0.0/'"
   ]
  },
  {
   "cell_type": "code",
   "execution_count": 4,
   "id": "a2bfb7fa",
   "metadata": {},
   "outputs": [],
   "source": [
    "# list of patients\n",
    "pts = ['100','101','102','103','104','105','106','107',\n",
    "       '108','109','111','112','113','114','115','116',\n",
    "       '117','118','119','121','122','123','124','200',\n",
    "       '201','202','203','205','207','208','209','210',\n",
    "       '212','213','214','215','217','219','220','221',\n",
    "       '222','223','228','230','231','232','233','234']"
   ]
  },
  {
   "cell_type": "code",
   "execution_count": 5,
   "id": "9fe092cf",
   "metadata": {},
   "outputs": [
    {
     "name": "stdout",
     "output_type": "stream",
     "text": [
      "Requirement already satisfied: wfdb in e:\\mca\\new folder\\lib\\site-packages (4.1.1)\n",
      "Requirement already satisfied: matplotlib>=3.2.2 in e:\\mca\\new folder\\lib\\site-packages (from wfdb) (3.7.0)\n",
      "Requirement already satisfied: requests>=2.8.1 in e:\\mca\\new folder\\lib\\site-packages (from wfdb) (2.28.1)\n",
      "Requirement already satisfied: scipy>=1.0.0 in e:\\mca\\new folder\\lib\\site-packages (from wfdb) (1.10.0)\n",
      "Requirement already satisfied: SoundFile>=0.10.0 in e:\\mca\\new folder\\lib\\site-packages (from wfdb) (0.12.1)\n",
      "Requirement already satisfied: pandas>=1.3.0 in e:\\mca\\new folder\\lib\\site-packages (from wfdb) (1.5.3)\n",
      "Requirement already satisfied: numpy>=1.10.1 in e:\\mca\\new folder\\lib\\site-packages (from wfdb) (1.23.5)\n",
      "Requirement already satisfied: cycler>=0.10 in e:\\mca\\new folder\\lib\\site-packages (from matplotlib>=3.2.2->wfdb) (0.11.0)\n",
      "Requirement already satisfied: python-dateutil>=2.7 in e:\\mca\\new folder\\lib\\site-packages (from matplotlib>=3.2.2->wfdb) (2.8.2)\n",
      "Requirement already satisfied: kiwisolver>=1.0.1 in e:\\mca\\new folder\\lib\\site-packages (from matplotlib>=3.2.2->wfdb) (1.4.4)\n",
      "Requirement already satisfied: pyparsing>=2.3.1 in e:\\mca\\new folder\\lib\\site-packages (from matplotlib>=3.2.2->wfdb) (3.0.9)\n",
      "Requirement already satisfied: pillow>=6.2.0 in e:\\mca\\new folder\\lib\\site-packages (from matplotlib>=3.2.2->wfdb) (9.4.0)\n",
      "Requirement already satisfied: contourpy>=1.0.1 in e:\\mca\\new folder\\lib\\site-packages (from matplotlib>=3.2.2->wfdb) (1.0.5)\n",
      "Requirement already satisfied: packaging>=20.0 in e:\\mca\\new folder\\lib\\site-packages (from matplotlib>=3.2.2->wfdb) (22.0)\n",
      "Requirement already satisfied: fonttools>=4.22.0 in e:\\mca\\new folder\\lib\\site-packages (from matplotlib>=3.2.2->wfdb) (4.25.0)\n",
      "Requirement already satisfied: pytz>=2020.1 in e:\\mca\\new folder\\lib\\site-packages (from pandas>=1.3.0->wfdb) (2022.7)\n",
      "Requirement already satisfied: charset-normalizer<3,>=2 in e:\\mca\\new folder\\lib\\site-packages (from requests>=2.8.1->wfdb) (2.0.4)\n",
      "Requirement already satisfied: certifi>=2017.4.17 in e:\\mca\\new folder\\lib\\site-packages (from requests>=2.8.1->wfdb) (2022.12.7)\n",
      "Requirement already satisfied: idna<4,>=2.5 in e:\\mca\\new folder\\lib\\site-packages (from requests>=2.8.1->wfdb) (3.4)\n",
      "Requirement already satisfied: urllib3<1.27,>=1.21.1 in e:\\mca\\new folder\\lib\\site-packages (from requests>=2.8.1->wfdb) (1.26.14)\n",
      "Requirement already satisfied: cffi>=1.0 in e:\\mca\\new folder\\lib\\site-packages (from SoundFile>=0.10.0->wfdb) (1.15.1)\n",
      "Requirement already satisfied: pycparser in e:\\mca\\new folder\\lib\\site-packages (from cffi>=1.0->SoundFile>=0.10.0->wfdb) (2.21)\n",
      "Requirement already satisfied: six>=1.5 in e:\\mca\\new folder\\lib\\site-packages (from python-dateutil>=2.7->matplotlib>=3.2.2->wfdb) (1.16.0)\n"
     ]
    }
   ],
   "source": [
    "!pip install wfdb"
   ]
  },
  {
   "cell_type": "code",
   "execution_count": 6,
   "id": "bfc8f2af",
   "metadata": {},
   "outputs": [],
   "source": [
    "import wfdb"
   ]
  },
  {
   "cell_type": "code",
   "execution_count": 7,
   "id": "1268d14b",
   "metadata": {},
   "outputs": [],
   "source": [
    "# Loading all the annotations and see the distribution of heart beat types across all files.\n",
    "df = pd.DataFrame()\n",
    "\n",
    "for pt in pts:\n",
    "    file = data_path + pt\n",
    "    annotation = wfdb.rdann(file, 'atr')\n",
    "    sym = annotation.symbol\n",
    "    \n",
    "    values, counts = np.unique(sym, return_counts=True)\n",
    "    df_sub = pd.DataFrame({'sym':values, 'val':counts, 'pt':[pt]*len(counts)})\n",
    "    df = pd.concat([df, df_sub],axis = 0)"
   ]
  },
  {
   "cell_type": "code",
   "execution_count": 8,
   "id": "3a04d33b",
   "metadata": {},
   "outputs": [
    {
     "data": {
      "text/plain": [
       "sym\n",
       "N    75052\n",
       "L     8075\n",
       "R     7259\n",
       "V     7130\n",
       "/     7028\n",
       "A     2546\n",
       "+     1291\n",
       "f      982\n",
       "F      803\n",
       "~      616\n",
       "!      472\n",
       "\"      437\n",
       "j      229\n",
       "x      193\n",
       "a      150\n",
       "|      132\n",
       "E      106\n",
       "J       83\n",
       "Q       33\n",
       "e       16\n",
       "[        6\n",
       "]        6\n",
       "S        2\n",
       "Name: val, dtype: int64"
      ]
     },
     "execution_count": 8,
     "metadata": {},
     "output_type": "execute_result"
    }
   ],
   "source": [
    "df.groupby('sym').val.sum().sort_values(ascending = False)"
   ]
  },
  {
   "cell_type": "code",
   "execution_count": 9,
   "id": "90c5821f",
   "metadata": {},
   "outputs": [],
   "source": [
    "# list of nonbeat and abnormal\n",
    "nonbeat = ['[','!',']','x','(',')','p','t','u','`',\n",
    "           '\\'','^','|','~','+','s','T','*','D','=','\"','@','Q','?']\n",
    "abnormal = ['L','R','V','/','A','f','F','j','a','E','J','e','S']"
   ]
  },
  {
   "cell_type": "code",
   "execution_count": 10,
   "id": "2c33342a",
   "metadata": {},
   "outputs": [],
   "source": [
    "# categorizing into normal, abnormal or nonbeat   \n",
    "df['category'] = -1\n",
    "df.loc[df.sym == 'N','category'] = 0\n",
    "df.loc[df.sym.isin(abnormal), 'category'] = 1"
   ]
  },
  {
   "cell_type": "code",
   "execution_count": 11,
   "id": "4181497a",
   "metadata": {},
   "outputs": [
    {
     "data": {
      "text/plain": [
       "category\n",
       "-1     3186\n",
       " 0    75052\n",
       " 1    34409\n",
       "Name: val, dtype: int64"
      ]
     },
     "execution_count": 11,
     "metadata": {},
     "output_type": "execute_result"
    }
   ],
   "source": [
    "df.groupby('category').val.sum()"
   ]
  },
  {
   "cell_type": "code",
   "execution_count": 12,
   "id": "2ea1caf3",
   "metadata": {},
   "outputs": [],
   "source": [
    "def load_ecg(file):\n",
    "    # load the ecg\n",
    "    # example file: 'mit-bih-arrhythmia-database-1.0.0/101'\n",
    "    \n",
    "    # load the ecg\n",
    "    record = wfdb.rdrecord(file)                # wfdb.rdrecord: Read a WFDB record and return the signal and record descriptors as attributes in a Record or MultiRecord object.\n",
    "    # load the annotation\n",
    "    annotation = wfdb.rdann(file, 'atr')        # wfdb.rdann: Read a WFDB annotation file record_name.extension and return an Annotation object.\n",
    "    \n",
    "    # extract the signal\n",
    "    p_signal = record.p_signal                 # signals in physical units in the p_signal field (True), or digital units in the d_signal field (False).\n",
    "    #the d_signals and p_signals attributes store the digital and physical signals of WFDB records with at least one channel.\n",
    "    #p_signals (default=None): An MxN 2d numpy array, where M is the signal length. Gives the physical signal values intended to be written. Either p_signals or d_signals must be set, but not both. If p_signals is set, this method will use it to perform analogue-digital conversion, writing the resultant digital values to the dat file(s)\n",
    "    \n",
    "    # verify frequency is 360\n",
    "    assert record.fs == 360, 'sample freq is not 360'\n",
    "    \n",
    "    # extract symbols and annotation index\n",
    "    atr_sym = annotation.symbol\n",
    "    atr_sample = annotation.sample\n",
    "    \n",
    "    return p_signal, atr_sym, atr_sample "
   ]
  },
  {
   "cell_type": "code",
   "execution_count": 13,
   "id": "e9dd03e2",
   "metadata": {},
   "outputs": [],
   "source": [
    "file = data_path + pts[0]\n",
    "p_signal, atr_sym, atr_sample = load_ecg(file)"
   ]
  },
  {
   "cell_type": "code",
   "execution_count": 14,
   "id": "ea294aa3",
   "metadata": {},
   "outputs": [
    {
     "name": "stdout",
     "output_type": "stream",
     "text": [
      "+ 3\n",
      "J 50\n",
      "N 2700\n",
      "V 3\n",
      "~ 8\n"
     ]
    }
   ],
   "source": [
    "values, counts = np.unique(sym, return_counts=True)\n",
    "for v,c in zip(values, counts):\n",
    "    print(v,c)"
   ]
  },
  {
   "cell_type": "code",
   "execution_count": 15,
   "id": "e48d6299",
   "metadata": {},
   "outputs": [
    {
     "data": {
      "text/plain": [
       "[2044, 66792, 74986, 99579, 128085, 170719, 279576, 305709, 307745, 312825]"
      ]
     },
     "execution_count": 15,
     "metadata": {},
     "output_type": "execute_result"
    }
   ],
   "source": [
    "# get abnormal beat index\n",
    "ab_index = [b for a,b in zip(atr_sym,atr_sample) if a in abnormal][:10]\n",
    "ab_index"
   ]
  },
  {
   "cell_type": "code",
   "execution_count": 16,
   "id": "67663ccd",
   "metadata": {},
   "outputs": [],
   "source": [
    "x = np.arange(len(p_signal))"
   ]
  },
  {
   "cell_type": "code",
   "execution_count": 17,
   "id": "9b108bc5",
   "metadata": {},
   "outputs": [
    {
     "data": {
      "image/png": "[encoded data removed]",
      "text/plain": [
       "<Figure size 640x480 with 1 Axes>"
      ]
     },
     "metadata": {},
     "output_type": "display_data"
    }
   ],
   "source": [
    "left = ab_index[1]-1080\n",
    "right = ab_index[1]+1080\n",
    "\n",
    "plt.plot(x[left:right],p_signal[left:right,0],'-',label='ecg',)\n",
    "plt.plot(x[atr_sample],p_signal[atr_sample,0],'go',label ='normal')\n",
    "plt.plot(x[ab_index],p_signal[ab_index,0],'ro',label='abnormal')\n",
    "\n",
    "plt.xlim(left,right)\n",
    "plt.ylim(p_signal[left:right].min()-0.05,p_signal[left:right,0].max()+0.05)\n",
    "plt.xlabel('time index')\n",
    "plt.ylabel('ECG signal')\n",
    "plt.legend(bbox_to_anchor = (1.04,1), loc = 'upper left')\n",
    "plt.show()"
   ]
  },
  {
   "cell_type": "code",
   "execution_count": 18,
   "id": "fcadab17",
   "metadata": {},
   "outputs": [],
   "source": [
    "def make_dataset(pts, num_sec, fs, abnormal):\n",
    "    # function for making dataset ignoring non-beats\n",
    "    # input:\n",
    "    # pts - list of patients\n",
    "    # num_sec = number of seconds to include before and after the beat\n",
    "    # fs = frequency\n",
    "    # output: \n",
    "    #   X_all = signal (nbeats , num_sec * fs columns)\n",
    "    #   Y_all = binary is abnormal (nbeats, 1)\n",
    "    #   sym_all = beat annotation symbol (nbeats,1)\n",
    "    \n",
    "    # initialize numpy arrays\n",
    "    num_cols = 2*num_sec * fs\n",
    "    X_all = np.zeros((1,num_cols))\n",
    "    Y_all = np.zeros((1,1))\n",
    "    sym_all = []\n",
    "    \n",
    "    # list to keep track of number of beats across patients\n",
    "    max_rows = []\n",
    "    \n",
    "    for pt in pts:\n",
    "        file = data_path + pt\n",
    "        \n",
    "        p_signal, atr_sym, atr_sample = load_ecg(file)\n",
    "        \n",
    "        # grab the first signal\n",
    "        p_signal = p_signal[:,0]\n",
    "        \n",
    "        # make df to exclude the nonbeats\n",
    "        df_ann = pd.DataFrame({'atr_sym':atr_sym,\n",
    "                              'atr_sample':atr_sample})\n",
    "        df_ann = df_ann.loc[df_ann.atr_sym.isin(abnormal + ['N'])]\n",
    "        \n",
    "        X,Y,sym = build_XY(p_signal,df_ann, num_cols, abnormal)\n",
    "        sym_all = sym_all+sym\n",
    "        max_rows.append(X.shape[0])\n",
    "        X_all = np.append(X_all,X,axis = 0)\n",
    "        Y_all = np.append(Y_all,Y,axis = 0)\n",
    "    # drop the first zero row\n",
    "    X_all = X_all[1:,:]\n",
    "    Y_all = Y_all[1:,:]\n",
    "    \n",
    "    # check sizes make sense\n",
    "    assert np.sum(max_rows) == X_all.shape[0], 'number of X, max_rows rows messed up'\n",
    "    assert Y_all.shape[0] == X_all.shape[0], 'number of X, Y rows messed up'\n",
    "    assert Y_all.shape[0] == len(sym_all), 'number of Y, sym rows messed up'\n",
    "\n",
    "    return X_all, Y_all, sym_all\n",
    "\n",
    "\n",
    "\n",
    "def build_XY(p_signal, df_ann, num_cols, abnormal):\n",
    "    # this function builds the X,Y matrices for each beat\n",
    "    # it also returns the original symbols for Y\n",
    "    \n",
    "    num_rows = len(df_ann)\n",
    "\n",
    "    X = np.zeros((num_rows, num_cols))\n",
    "    Y = np.zeros((num_rows,1))\n",
    "    sym = []\n",
    "    \n",
    "    # keep track of rows\n",
    "    max_row = 0\n",
    "\n",
    "    for atr_sample, atr_sym in zip(df_ann.atr_sample.values,df_ann.atr_sym.values):\n",
    "\n",
    "        left = max([0,(atr_sample - num_sec*fs) ])\n",
    "        right = min([len(p_signal),(atr_sample + num_sec*fs) ])\n",
    "        x = p_signal[left: right]\n",
    "        if len(x) == num_cols:\n",
    "            X[max_row,:] = x\n",
    "            Y[max_row,:] = int(atr_sym in abnormal)\n",
    "            sym.append(atr_sym)\n",
    "            max_row += 1\n",
    "    X = X[:max_row,:]\n",
    "    Y = Y[:max_row,:]\n",
    "    return X,Y,sym"
   ]
  },
  {
   "cell_type": "code",
   "execution_count": 19,
   "id": "a7708671",
   "metadata": {},
   "outputs": [],
   "source": [
    "num_sec = 3\n",
    "fs = 360"
   ]
  },
  {
   "cell_type": "code",
   "execution_count": 20,
   "id": "ecd4666d",
   "metadata": {},
   "outputs": [],
   "source": [
    "X_all, Y_all, sym_all = make_dataset(pts, num_sec, fs, abnormal)"
   ]
  },
  {
   "cell_type": "code",
   "execution_count": 21,
   "id": "d4e4b42e",
   "metadata": {},
   "outputs": [],
   "source": [
    "from sklearn.model_selection import train_test_split\n",
    "\n",
    "X_train, X_valid, y_train, y_valid = train_test_split(X_all, Y_all, test_size=0.30, random_state=42)"
   ]
  },
  {
   "cell_type": "code",
   "execution_count": 22,
   "id": "2f26fbcc",
   "metadata": {},
   "outputs": [
    {
     "data": {
      "text/plain": [
       "2160"
      ]
     },
     "execution_count": 22,
     "metadata": {},
     "output_type": "execute_result"
    }
   ],
   "source": [
    "X_train.shape[1]"
   ]
  },
  {
   "cell_type": "code",
   "execution_count": 23,
   "id": "ddff4283",
   "metadata": {},
   "outputs": [],
   "source": [
    "from sklearn.metrics import roc_auc_score, accuracy_score, precision_score, recall_score\n",
    "def calc_prevalence(y_actual):\n",
    "    return (sum(y_actual)/len(y_actual))\n",
    "def calc_specificity(y_actual, y_pred, thresh):\n",
    "    # calculates specificity\n",
    "    return sum((y_pred < thresh) & (y_actual == 0)) /sum(y_actual ==0)\n",
    "def print_report(y_actual, y_pred, thresh):\n",
    "    \n",
    "    auc = roc_auc_score(y_actual, y_pred)\n",
    "    accuracy = accuracy_score(y_actual, (y_pred > thresh))\n",
    "    recall = recall_score(y_actual, (y_pred > thresh))\n",
    "    precision = precision_score(y_actual, (y_pred > thresh))\n",
    "    specificity = calc_specificity(y_actual, y_pred, thresh)\n",
    "    print('AUC:%.3f'%auc)\n",
    "    print('accuracy:%.3f'%accuracy)\n",
    "    print('recall:%.3f'%recall)\n",
    "    print('precision:%.3f'%precision)\n",
    "    print('specificity:%.3f'%specificity)\n",
    "    print('prevalence:%.3f'%calc_prevalence(y_actual))\n",
    "    print(' ')\n",
    "    return auc, accuracy, recall, precision, specificity"
   ]
  },
  {
   "cell_type": "code",
   "execution_count": 24,
   "id": "19ca63f6",
   "metadata": {},
   "outputs": [
    {
     "name": "stdout",
     "output_type": "stream",
     "text": [
      "Note: you may need to restart the kernel to use updated packages.\n",
      "Requirement already satisfied: keras in e:\\mca\\new folder\\lib\\site-packages (2.12.0)\n"
     ]
    }
   ],
   "source": [
    "pip install keras"
   ]
  },
  {
   "cell_type": "code",
   "execution_count": 25,
   "id": "722a40eb",
   "metadata": {},
   "outputs": [
    {
     "name": "stdout",
     "output_type": "stream",
     "text": [
      "Requirement already satisfied: tensorflow in e:\\mca\\new folder\\lib\\site-packages (2.12.0)\n",
      "Requirement already satisfied: tensorflow-intel==2.12.0 in e:\\mca\\new folder\\lib\\site-packages (from tensorflow) (2.12.0)\n",
      "Requirement already satisfied: h5py>=2.9.0 in e:\\mca\\new folder\\lib\\site-packages (from tensorflow-intel==2.12.0->tensorflow) (3.7.0)\n",
      "Requirement already satisfied: jax>=0.3.15 in e:\\mca\\new folder\\lib\\site-packages (from tensorflow-intel==2.12.0->tensorflow) (0.4.8)\n",
      "Requirement already satisfied: gast<=0.4.0,>=0.2.1 in e:\\mca\\new folder\\lib\\site-packages (from tensorflow-intel==2.12.0->tensorflow) (0.4.0)\n",
      "Requirement already satisfied: tensorflow-io-gcs-filesystem>=0.23.1 in e:\\mca\\new folder\\lib\\site-packages (from tensorflow-intel==2.12.0->tensorflow) (0.31.0)\n",
      "Requirement already satisfied: keras<2.13,>=2.12.0 in e:\\mca\\new folder\\lib\\site-packages (from tensorflow-intel==2.12.0->tensorflow) (2.12.0)\n",
      "Requirement already satisfied: absl-py>=1.0.0 in e:\\mca\\new folder\\lib\\site-packages (from tensorflow-intel==2.12.0->tensorflow) (1.4.0)\n",
      "Requirement already satisfied: wrapt<1.15,>=1.11.0 in e:\\mca\\new folder\\lib\\site-packages (from tensorflow-intel==2.12.0->tensorflow) (1.14.1)\n",
      "Requirement already satisfied: tensorflow-estimator<2.13,>=2.12.0 in e:\\mca\\new folder\\lib\\site-packages (from tensorflow-intel==2.12.0->tensorflow) (2.12.0)\n",
      "Requirement already satisfied: astunparse>=1.6.0 in e:\\mca\\new folder\\lib\\site-packages (from tensorflow-intel==2.12.0->tensorflow) (1.6.3)\n",
      "Requirement already satisfied: google-pasta>=0.1.1 in e:\\mca\\new folder\\lib\\site-packages (from tensorflow-intel==2.12.0->tensorflow) (0.2.0)\n",
      "Requirement already satisfied: numpy<1.24,>=1.22 in e:\\mca\\new folder\\lib\\site-packages (from tensorflow-intel==2.12.0->tensorflow) (1.23.5)\n",
      "Requirement already satisfied: opt-einsum>=2.3.2 in e:\\mca\\new folder\\lib\\site-packages (from tensorflow-intel==2.12.0->tensorflow) (3.3.0)\n",
      "Requirement already satisfied: packaging in e:\\mca\\new folder\\lib\\site-packages (from tensorflow-intel==2.12.0->tensorflow) (22.0)\n",
      "Requirement already satisfied: tensorboard<2.13,>=2.12 in e:\\mca\\new folder\\lib\\site-packages (from tensorflow-intel==2.12.0->tensorflow) (2.12.2)\n",
      "Requirement already satisfied: six>=1.12.0 in e:\\mca\\new folder\\lib\\site-packages (from tensorflow-intel==2.12.0->tensorflow) (1.16.0)\n",
      "Requirement already satisfied: libclang>=13.0.0 in e:\\mca\\new folder\\lib\\site-packages (from tensorflow-intel==2.12.0->tensorflow) (16.0.0)\n",
      "Requirement already satisfied: grpcio<2.0,>=1.24.3 in e:\\mca\\new folder\\lib\\site-packages (from tensorflow-intel==2.12.0->tensorflow) (1.54.0)\n",
      "Requirement already satisfied: termcolor>=1.1.0 in e:\\mca\\new folder\\lib\\site-packages (from tensorflow-intel==2.12.0->tensorflow) (2.3.0)\n",
      "Requirement already satisfied: flatbuffers>=2.0 in e:\\mca\\new folder\\lib\\site-packages (from tensorflow-intel==2.12.0->tensorflow) (23.3.3)\n",
      "Requirement already satisfied: protobuf!=4.21.0,!=4.21.1,!=4.21.2,!=4.21.3,!=4.21.4,!=4.21.5,<5.0.0dev,>=3.20.3 in e:\\mca\\new folder\\lib\\site-packages (from tensorflow-intel==2.12.0->tensorflow) (4.22.3)\n",
      "Requirement already satisfied: typing-extensions>=3.6.6 in e:\\mca\\new folder\\lib\\site-packages (from tensorflow-intel==2.12.0->tensorflow) (4.4.0)\n",
      "Requirement already satisfied: setuptools in e:\\mca\\new folder\\lib\\site-packages (from tensorflow-intel==2.12.0->tensorflow) (65.6.3)\n",
      "Requirement already satisfied: wheel<1.0,>=0.23.0 in e:\\mca\\new folder\\lib\\site-packages (from astunparse>=1.6.0->tensorflow-intel==2.12.0->tensorflow) (0.38.4)\n",
      "Requirement already satisfied: scipy>=1.7 in e:\\mca\\new folder\\lib\\site-packages (from jax>=0.3.15->tensorflow-intel==2.12.0->tensorflow) (1.10.0)\n",
      "Requirement already satisfied: ml-dtypes>=0.0.3 in e:\\mca\\new folder\\lib\\site-packages (from jax>=0.3.15->tensorflow-intel==2.12.0->tensorflow) (0.1.0)\n",
      "Requirement already satisfied: tensorboard-plugin-wit>=1.6.0 in e:\\mca\\new folder\\lib\\site-packages (from tensorboard<2.13,>=2.12->tensorflow-intel==2.12.0->tensorflow) (1.8.1)\n",
      "Requirement already satisfied: werkzeug>=1.0.1 in e:\\mca\\new folder\\lib\\site-packages (from tensorboard<2.13,>=2.12->tensorflow-intel==2.12.0->tensorflow) (2.2.2)\n",
      "Requirement already satisfied: tensorboard-data-server<0.8.0,>=0.7.0 in e:\\mca\\new folder\\lib\\site-packages (from tensorboard<2.13,>=2.12->tensorflow-intel==2.12.0->tensorflow) (0.7.0)\n",
      "Requirement already satisfied: google-auth-oauthlib<1.1,>=0.5 in e:\\mca\\new folder\\lib\\site-packages (from tensorboard<2.13,>=2.12->tensorflow-intel==2.12.0->tensorflow) (1.0.0)\n",
      "Requirement already satisfied: google-auth<3,>=1.6.3 in e:\\mca\\new folder\\lib\\site-packages (from tensorboard<2.13,>=2.12->tensorflow-intel==2.12.0->tensorflow) (2.17.3)\n",
      "Requirement already satisfied: markdown>=2.6.8 in e:\\mca\\new folder\\lib\\site-packages (from tensorboard<2.13,>=2.12->tensorflow-intel==2.12.0->tensorflow) (3.4.1)\n",
      "Requirement already satisfied: requests<3,>=2.21.0 in e:\\mca\\new folder\\lib\\site-packages (from tensorboard<2.13,>=2.12->tensorflow-intel==2.12.0->tensorflow) (2.28.1)\n",
      "Requirement already satisfied: cachetools<6.0,>=2.0.0 in e:\\mca\\new folder\\lib\\site-packages (from google-auth<3,>=1.6.3->tensorboard<2.13,>=2.12->tensorflow-intel==2.12.0->tensorflow) (5.3.0)\n",
      "Requirement already satisfied: rsa<5,>=3.1.4 in e:\\mca\\new folder\\lib\\site-packages (from google-auth<3,>=1.6.3->tensorboard<2.13,>=2.12->tensorflow-intel==2.12.0->tensorflow) (4.9)\n",
      "Requirement already satisfied: pyasn1-modules>=0.2.1 in e:\\mca\\new folder\\lib\\site-packages (from google-auth<3,>=1.6.3->tensorboard<2.13,>=2.12->tensorflow-intel==2.12.0->tensorflow) (0.2.8)\n",
      "Requirement already satisfied: requests-oauthlib>=0.7.0 in e:\\mca\\new folder\\lib\\site-packages (from google-auth-oauthlib<1.1,>=0.5->tensorboard<2.13,>=2.12->tensorflow-intel==2.12.0->tensorflow) (1.3.1)\n",
      "Requirement already satisfied: charset-normalizer<3,>=2 in e:\\mca\\new folder\\lib\\site-packages (from requests<3,>=2.21.0->tensorboard<2.13,>=2.12->tensorflow-intel==2.12.0->tensorflow) (2.0.4)\n",
      "Requirement already satisfied: idna<4,>=2.5 in e:\\mca\\new folder\\lib\\site-packages (from requests<3,>=2.21.0->tensorboard<2.13,>=2.12->tensorflow-intel==2.12.0->tensorflow) (3.4)\n",
      "Requirement already satisfied: urllib3<1.27,>=1.21.1 in e:\\mca\\new folder\\lib\\site-packages (from requests<3,>=2.21.0->tensorboard<2.13,>=2.12->tensorflow-intel==2.12.0->tensorflow) (1.26.14)\n",
      "Requirement already satisfied: certifi>=2017.4.17 in e:\\mca\\new folder\\lib\\site-packages (from requests<3,>=2.21.0->tensorboard<2.13,>=2.12->tensorflow-intel==2.12.0->tensorflow) (2022.12.7)\n",
      "Requirement already satisfied: MarkupSafe>=2.1.1 in e:\\mca\\new folder\\lib\\site-packages (from werkzeug>=1.0.1->tensorboard<2.13,>=2.12->tensorflow-intel==2.12.0->tensorflow) (2.1.1)\n",
      "Requirement already satisfied: pyasn1<0.5.0,>=0.4.6 in e:\\mca\\new folder\\lib\\site-packages (from pyasn1-modules>=0.2.1->google-auth<3,>=1.6.3->tensorboard<2.13,>=2.12->tensorflow-intel==2.12.0->tensorflow) (0.4.8)\n",
      "Requirement already satisfied: oauthlib>=3.0.0 in e:\\mca\\new folder\\lib\\site-packages (from requests-oauthlib>=0.7.0->google-auth-oauthlib<1.1,>=0.5->tensorboard<2.13,>=2.12->tensorflow-intel==2.12.0->tensorflow) (3.2.2)\n",
      "Note: you may need to restart the kernel to use updated packages.\n"
     ]
    }
   ],
   "source": [
    "pip install tensorflow"
   ]
  },
  {
   "cell_type": "code",
   "execution_count": 26,
   "id": "bb9d22bf",
   "metadata": {},
   "outputs": [
    {
     "name": "stdout",
     "output_type": "stream",
     "text": [
      "(76369, 2160, 1)\n",
      "(32730, 2160, 1)\n"
     ]
    }
   ],
   "source": [
    "#CNN\n",
    "\n",
    "from keras.layers import Conv1D\n",
    "from keras.models import Sequential\n",
    "from keras.layers import  Dropout, Flatten, Dense\n",
    "\n",
    "# reshape input to be [samples, time steps, features = 1]\n",
    "\n",
    "X_train_cnn = np.reshape(X_train, (X_train.shape[0], X_train.shape[1], 1))\n",
    "X_valid_cnn = np.reshape(X_valid, (X_valid.shape[0], X_valid.shape[1], 1))\n",
    "\n",
    "print(X_train_cnn.shape)\n",
    "print(X_valid_cnn.shape)\n",
    "\n",
    "model = Sequential()\n",
    "model.add(Conv1D(filters = 128, kernel_size = 5, activation = 'relu', input_shape = (2160,1)))\n",
    "model.add(Dropout(rate = 0.25))\n",
    "model.add(Flatten())\n",
    "model.add(Dense(1, activation = 'sigmoid'))\n",
    "\n",
    "# compile the model - use categorical crossentropy, and the adam optimizer\n",
    "model.compile(\n",
    "                loss = 'binary_crossentropy',\n",
    "                optimizer = 'adam',\n",
    "                metrics = ['accuracy'])"
   ]
  },
  {
   "cell_type": "code",
   "execution_count": 27,
   "id": "9ee42615",
   "metadata": {},
   "outputs": [
    {
     "data": {
      "text/plain": [
       "(76369, 2160)"
      ]
     },
     "execution_count": 27,
     "metadata": {},
     "output_type": "execute_result"
    }
   ],
   "source": [
    "X_train.shape"
   ]
  },
  {
   "cell_type": "code",
   "execution_count": 28,
   "id": "a1677dc5",
   "metadata": {},
   "outputs": [
    {
     "name": "stdout",
     "output_type": "stream",
     "text": [
      "Model: \"sequential\"\n",
      "_________________________________________________________________\n",
      " Layer (type)                Output Shape              Param #   \n",
      "=================================================================\n",
      " conv1d (Conv1D)             (None, 2156, 128)         768       \n",
      "                                                                 \n",
      " dropout (Dropout)           (None, 2156, 128)         0         \n",
      "                                                                 \n",
      " flatten (Flatten)           (None, 275968)            0         \n",
      "                                                                 \n",
      " dense (Dense)               (None, 1)                 275969    \n",
      "                                                                 \n",
      "=================================================================\n",
      "Total params: 276,737\n",
      "Trainable params: 276,737\n",
      "Non-trainable params: 0\n",
      "_________________________________________________________________\n"
     ]
    }
   ],
   "source": [
    "model.summary()"
   ]
  },
  {
   "cell_type": "code",
   "execution_count": 29,
   "id": "e3339ed3",
   "metadata": {},
   "outputs": [
    {
     "name": "stdout",
     "output_type": "stream",
     "text": [
      "2387/2387 [==============================] - 138s 55ms/step\n"
     ]
    }
   ],
   "source": [
    "y_train_preds_cnn = model.predict(X_train_cnn,verbose = 1)"
   ]
  },
  {
   "cell_type": "code",
   "execution_count": 30,
   "id": "8914584a",
   "metadata": {},
   "outputs": [
    {
     "name": "stdout",
     "output_type": "stream",
     "text": [
      "1023/1023 [==============================] - 57s 55ms/step\n"
     ]
    }
   ],
   "source": [
    "y_valid_preds_cnn = model.predict(X_valid_cnn,verbose = 1)"
   ]
  },
  {
   "cell_type": "code",
   "execution_count": 31,
   "id": "909d1b79",
   "metadata": {},
   "outputs": [
    {
     "data": {
      "text/plain": [
       "0.31438148987154474"
      ]
     },
     "execution_count": 31,
     "metadata": {},
     "output_type": "execute_result"
    }
   ],
   "source": [
    "thresh = (sum(y_train)/len(y_train))[0]\n",
    "thresh"
   ]
  },
  {
   "cell_type": "code",
   "execution_count": 32,
   "id": "b6e5b575",
   "metadata": {},
   "outputs": [
    {
     "name": "stdout",
     "output_type": "stream",
     "text": [
      "Train\n",
      "AUC:0.437\n",
      "accuracy:0.314\n",
      "recall:1.000\n",
      "precision:0.314\n",
      "specificity:0.000\n",
      "prevalence:0.314\n",
      " \n"
     ]
    },
    {
     "data": {
      "text/plain": [
       "(0.4372688903807749,\n",
       " 0.31438148987154474,\n",
       " 1.0,\n",
       " 0.31438148987154474,\n",
       " array([0.]))"
      ]
     },
     "execution_count": 32,
     "metadata": {},
     "output_type": "execute_result"
    }
   ],
   "source": [
    "print('Train')\n",
    "print_report(y_train, y_train_preds_cnn, thresh)"
   ]
  },
  {
   "cell_type": "code",
   "execution_count": 33,
   "id": "979e0d4c",
   "metadata": {},
   "outputs": [
    {
     "name": "stdout",
     "output_type": "stream",
     "text": [
      "Valid\n",
      "AUC:0.436\n",
      "accuracy:0.315\n",
      "recall:1.000\n",
      "precision:0.315\n",
      "specificity:0.000\n",
      "prevalence:0.315\n",
      " \n"
     ]
    },
    {
     "data": {
      "text/plain": [
       "(0.4363740590836427, 0.3145432325084021, 1.0, 0.3145432325084021, array([0.]))"
      ]
     },
     "execution_count": 33,
     "metadata": {},
     "output_type": "execute_result"
    }
   ],
   "source": [
    "print('Valid')\n",
    "print_report(y_valid, y_valid_preds_cnn, thresh)"
   ]
  },
  {
   "cell_type": "code",
   "execution_count": 34,
   "id": "d243ef7f",
   "metadata": {},
   "outputs": [
    {
     "name": "stdout",
     "output_type": "stream",
     "text": [
      "(76369, 2160, 1)\n",
      "(32730, 2160, 1)\n"
     ]
    }
   ],
   "source": [
    "#LSTM\n",
    "\n",
    "\n",
    "X_train_LSTM = np.reshape(X_train, (X_train.shape[0], X_train.shape[1], 1))\n",
    "X_valid_LSTM = np.reshape(X_valid, (X_valid.shape[0], X_valid.shape[1], 1))\n",
    "\n",
    "print(X_train_LSTM.shape)\n",
    "print(X_valid_LSTM.shape)"
   ]
  },
  {
   "cell_type": "code",
   "execution_count": 35,
   "id": "d37dc996",
   "metadata": {},
   "outputs": [],
   "source": [
    "#LSTM\n",
    "\n",
    "from keras.layers import Bidirectional, LSTM\n",
    "model = Sequential()\n",
    "model.add(Bidirectional(LSTM(64, input_shape=(X_train_cnn.shape[1], X_train_cnn.shape[2]))))\n",
    "model.add(Dropout(rate = 0.25))\n",
    "model.add(Dense(1, activation = 'sigmoid'))\n",
    "model.compile(\n",
    "                loss = 'binary_crossentropy',\n",
    "                optimizer = 'adam',\n",
    "                metrics = ['accuracy'])"
   ]
  },
  {
   "cell_type": "code",
   "execution_count": 36,
   "id": "b8de263e",
   "metadata": {},
   "outputs": [
    {
     "name": "stdout",
     "output_type": "stream",
     "text": [
      "Epoch 1/2\n",
      "2387/2387 [==============================] - 5390s 2s/step - loss: 0.6144 - accuracy: 0.6859\n",
      "Epoch 2/2\n",
      "2387/2387 [==============================] - 5212s 2s/step - loss: 0.6114 - accuracy: 0.6913\n"
     ]
    },
    {
     "data": {
      "text/plain": [
       "<keras.callbacks.History at 0x1e4d94922c0>"
      ]
     },
     "execution_count": 36,
     "metadata": {},
     "output_type": "execute_result"
    }
   ],
   "source": [
    "model.fit(X_train_cnn, y_train, batch_size = 32, epochs= 2, verbose = 1)"
   ]
  },
  {
   "cell_type": "code",
   "execution_count": 37,
   "id": "1e546516",
   "metadata": {},
   "outputs": [
    {
     "name": "stdout",
     "output_type": "stream",
     "text": [
      "2387/2387 [==============================] - 1158s 481ms/step\n",
      "1023/1023 [==============================] - 438s 426ms/step\n"
     ]
    }
   ],
   "source": [
    "y_train_preds_lstm = model.predict(X_train_cnn,verbose = 1)\n",
    "y_valid_preds_lstm = model.predict(X_valid_cnn,verbose = 1)"
   ]
  },
  {
   "cell_type": "code",
   "execution_count": 38,
   "id": "f61d51ce",
   "metadata": {},
   "outputs": [
    {
     "name": "stdout",
     "output_type": "stream",
     "text": [
      "Train\n",
      "AUC:0.573\n",
      "accuracy:0.644\n",
      "recall:0.251\n",
      "precision:0.395\n",
      "specificity:0.823\n",
      "prevalence:0.314\n",
      " \n",
      "Valid\n",
      "AUC:0.576\n",
      "accuracy:0.645\n",
      "recall:0.255\n",
      "precision:0.400\n",
      "specificity:0.825\n",
      "prevalence:0.315\n",
      " \n"
     ]
    }
   ],
   "source": [
    "print('Train');\n",
    "print_report(y_train, y_train_preds_lstm, thresh)\n",
    "print('Valid');\n",
    "print_report(y_valid, y_valid_preds_lstm, thresh);"
   ]
  },
  {
   "cell_type": "code",
   "execution_count": null,
   "id": "c44bd764",
   "metadata": {},
   "outputs": [],
   "source": [
    "# Normalize the data to have zero mean and unit variance\n",
    "#X_normalized = (X_resampled - np.mean(X_resampled)) / np.std(X_resampled)\n"
   ]
  },
  {
   "cell_type": "code",
   "execution_count": null,
   "id": "e819cc97",
   "metadata": {},
   "outputs": [],
   "source": [
    "# Apply data augmentation by adding Gaussian noise\n",
    "#noise = np.random.normal(0, 0.05, X_normalized.shape)\n",
    "#X_augmented = X_normalized + noise"
   ]
  },
  {
   "cell_type": "code",
   "execution_count": null,
   "id": "30f48fa2",
   "metadata": {},
   "outputs": [],
   "source": [
    "# Combine the features and labels into a single array\n",
    "#data_processed = np.column_stack((X_augmented, y))\n",
    "\n",
    "# Save the processed data to a new file\n",
    "#np.save('mitbih_processed.npy', data_processed)"
   ]
  },
  {
   "cell_type": "code",
   "execution_count": null,
   "id": "1a163d1e",
   "metadata": {},
   "outputs": [],
   "source": [
    "# Split the data into training and testing sets\n",
    "#X_train, X_test, y_train, y_test = train_test_split(X, y, test_size=0.2, random_state=42)\n"
   ]
  },
  {
   "cell_type": "code",
   "execution_count": 40,
   "id": "10efbbf5",
   "metadata": {},
   "outputs": [
    {
     "name": "stdout",
     "output_type": "stream",
     "text": [
      "Epoch 1/2\n",
      "2387/2387 [==============================] - 1691s 705ms/step - loss: 0.6293 - accuracy: 0.6779 - val_loss: 0.6249 - val_accuracy: 0.6855\n",
      "Epoch 2/2\n",
      "2387/2387 [==============================] - 1976s 827ms/step - loss: 0.6206 - accuracy: 0.6859 - val_loss: 0.6196 - val_accuracy: 0.6862\n"
     ]
    }
   ],
   "source": [
    "#RNN\n",
    "\n",
    "from tensorflow.keras import layers, models\n",
    "from keras.models import Sequential\n",
    "from keras.layers import Dense, SimpleRNN\n",
    "\n",
    "model = Sequential()\n",
    "model.add(SimpleRNN(units=128, input_shape=(2160, 1)))\n",
    "model.add(Dense(units=1, activation='sigmoid'))\n",
    "\n",
    "model.compile(optimizer='adam', loss='binary_crossentropy', metrics=['accuracy'])\n",
    "history = model.fit(X_train, y_train, epochs=2, validation_data=(X_train, y_train))\n",
    "\n"
   ]
  },
  {
   "cell_type": "code",
   "execution_count": 41,
   "id": "e42c2ac4",
   "metadata": {},
   "outputs": [
    {
     "name": "stdout",
     "output_type": "stream",
     "text": [
      "2387/2387 [==============================] - 592s 245ms/step\n",
      "1023/1023 [==============================] - 288s 282ms/step\n"
     ]
    }
   ],
   "source": [
    "y_train_preds_RNN = model.predict(X_train_cnn,verbose = 1)\n",
    "y_valid_preds_RNN = model.predict(X_valid_cnn,verbose = 1)"
   ]
  },
  {
   "cell_type": "code",
   "execution_count": 42,
   "id": "b4677278",
   "metadata": {},
   "outputs": [
    {
     "name": "stdout",
     "output_type": "stream",
     "text": [
      "Train\n",
      "AUC:0.556\n",
      "accuracy:0.629\n",
      "recall:0.244\n",
      "precision:0.365\n",
      "specificity:0.805\n",
      "prevalence:0.314\n",
      " \n",
      "Valid\n",
      "AUC:0.557\n",
      "accuracy:0.631\n",
      "recall:0.247\n",
      "precision:0.370\n",
      "specificity:0.807\n",
      "prevalence:0.315\n",
      " \n"
     ]
    }
   ],
   "source": [
    "print('Train');\n",
    "print_report(y_train, y_train_preds_RNN, thresh)\n",
    "print('Valid');\n",
    "print_report(y_valid, y_valid_preds_RNN, thresh);"
   ]
  },
  {
   "cell_type": "code",
   "execution_count": 44,
   "id": "6e2910d6",
   "metadata": {},
   "outputs": [
    {
     "data": {
      "image/png": "[encoded data removed]",
      "text/plain": [
       "<Figure size 640x480 with 1 Axes>"
      ]
     },
     "metadata": {},
     "output_type": "display_data"
    }
   ],
   "source": [
    "from sklearn.metrics import roc_curve, roc_auc_score\n",
    "\n",
    "\n",
    "fpr_valid_cnn, tpr_valid_cnn, t_valid_cnn = roc_curve(y_valid, y_valid_preds_cnn)\n",
    "auc_valid_cnn = roc_auc_score(y_valid, y_valid_preds_cnn)\n",
    "\n",
    "fpr_valid_lstm, tpr_valid_lstm, t_valid_lstm = roc_curve(y_valid, y_valid_preds_lstm)\n",
    "auc_valid_lstm = roc_auc_score(y_valid, y_valid_preds_lstm)\n",
    "\n",
    "fpr_valid_RNN, tpr_valid_RNN, t_valid_RNN = roc_curve(y_valid, y_valid_preds_RNN)\n",
    "auc_valid_RNN = roc_auc_score(y_valid, y_valid_preds_RNN)\n",
    "\n",
    "plt.plot(fpr_valid_cnn, tpr_valid_cnn, 'g-', label = 'CNN AUC:%.3f'%auc_valid_cnn)\n",
    "plt.plot(fpr_valid_lstm, tpr_valid_lstm, 'b-', label = 'LSTM AUC:%.3f'%auc_valid_lstm)\n",
    "plt.plot(fpr_valid_RNN, tpr_valid_RNN, 'r-', label = 'RNN AUC:%.3f'%auc_valid_RNN)\n",
    "\n",
    "plt.plot([0,1],[0,1], 'k--')\n",
    "plt.xlabel('FPR')\n",
    "plt.ylabel('TPR')\n",
    "plt.legend(bbox_to_anchor = (1.04,1), loc = 'upper left')\n",
    "plt.title('Validation Set')\n",
    "plt.show()"
   ]
  }
 ],
 "metadata": {
  "kernelspec": {
   "display_name": "Python 3 (ipykernel)",
   "language": "python",
   "name": "python3"
  },
  "language_info": {
   "codemirror_mode": {
    "name": "ipython",
    "version": 3
   },
   "file_extension": ".py",
   "mimetype": "text/x-python",
   "name": "python",
   "nbconvert_exporter": "python",
   "pygments_lexer": "ipython3",
   "version": "3.10.9"
  }
 },
 "nbformat": 4,
 "nbformat_minor": 5
}
